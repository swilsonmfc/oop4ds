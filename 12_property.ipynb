{
 "cells": [
  {
   "cell_type": "markdown",
   "metadata": {
    "region_name": "md"
   },
   "source": [
    "# Property\n",
    "Properties are a clean way of hiding internal details in a convenient API friendly way"
   ]
  },
  {
   "cell_type": "markdown",
   "metadata": {
    "region_name": "md"
   },
   "source": [
    "# Simple Approach\n",
    "* As a user of the class, can I change it?\n",
    "* What happens if I do?\n",
    "* Are there any rules about changing it?\n",
    "* The simple approach lacks expressiveness"
   ]
  },
  {
   "cell_type": "code",
   "execution_count": null,
   "metadata": {
    "lines_to_next_cell": 1,
    "title": "codecell"
   },
   "outputs": [],
   "source": [
    "class Person():\n",
    "    name = 'my name'"
   ]
  },
  {
   "cell_type": "markdown",
   "metadata": {
    "region_name": "md"
   },
   "source": [
    "# Functional Get / Set\n",
    "* I know more about this with functions fronting the variable\n",
    "* I know I can't direcltly access it (double underscore performs a rewrite)\n",
    "* The method gives me an opportunity to inject any business logic I need"
   ]
  },
  {
   "cell_type": "code",
   "execution_count": null,
   "metadata": {
    "lines_to_next_cell": 1,
    "title": "codecell"
   },
   "outputs": [],
   "source": [
    "class Person():\n",
    "    def __init__(self):\n",
    "        self.__name = None\n",
    "    \n",
    "    def getName(self):\n",
    "        return self.__name\n",
    "    \n",
    "    def setName(self, name):\n",
    "        self.__name = name"
   ]
  },
  {
   "cell_type": "code",
   "execution_count": null,
   "metadata": {
    "title": "codecell"
   },
   "outputs": [],
   "source": [
    "p = Person()\n",
    "print(p.getName())\n",
    "\n",
    "p.setName('Tom')\n",
    "print(p.getName())"
   ]
  },
  {
   "cell_type": "markdown",
   "metadata": {
    "region_name": "md"
   },
   "source": [
    "# Property\n",
    "* Properties sit atop a method\n",
    "* The getter method has the @property annotation & uses the method name\n",
    "* If the property can be written to, we add an annotation @[name].setter\n",
    "* Properties do not have to be aligned to one variable"
   ]
  },
  {
   "cell_type": "code",
   "execution_count": null,
   "metadata": {
    "title": "codecell"
   },
   "outputs": [],
   "source": [
    "class Person():\n",
    "    def __init__(self):\n",
    "        self.__firstName = None\n",
    "        self.__lastName  = None\n",
    "    \n",
    "    @property\n",
    "    def firstName(self):\n",
    "        return self.__firstName\n",
    "    \n",
    "    @firstName.setter\n",
    "    def firstName(self, value):\n",
    "        self.__firstName = value\n",
    "        \n",
    "    @property\n",
    "    def lastName(self):\n",
    "        return self.__lastName\n",
    "    \n",
    "    @lastName.setter\n",
    "    def lastName(self, value):\n",
    "        self.__lastName = value\n",
    "        \n",
    "    @property \n",
    "    def fullName(self):\n",
    "        return self.__firstName + \" \" + self.__lastName"
   ]
  },
  {
   "cell_type": "code",
   "execution_count": null,
   "metadata": {
    "title": "codecell"
   },
   "outputs": [],
   "source": [
    "p = Person()\n",
    "print(p.firstName)\n",
    "\n",
    "p.firstName = 'Tom'\n",
    "print(p.firstName)\n",
    "\n",
    "p.lastName = 'Thumb'\n",
    "print(p.lastName)\n",
    "\n",
    "# Property for full name\n",
    "print(p.fullName)"
   ]
  },
  {
   "cell_type": "code",
   "execution_count": null,
   "metadata": {
    "title": "codecell"
   },
   "outputs": [],
   "source": [
    "#Can't set - not defined\n",
    "p.fullName = 'Tom T'"
   ]
  },
  {
   "cell_type": "code",
   "execution_count": null,
   "metadata": {
    "title": "codecell"
   },
   "outputs": [],
   "source": [
    "# Can't get the state directly\n",
    "print(p.__firstName)"
   ]
  }
 ],
 "metadata": {
  "jupytext": {
   "cell_metadata_filter": "title,region_name,-all",
   "main_language": "python",
   "notebook_metadata_filter": "-all"
  }
 },
 "nbformat": 4,
 "nbformat_minor": 2
}
