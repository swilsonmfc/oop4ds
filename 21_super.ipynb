{
 "cells": [
  {
   "cell_type": "markdown",
   "metadata": {
    "region_name": "md"
   },
   "source": [
    "# Constructors\n",
    "When we construct an object we initialize our class\n",
    "with the dunder init (__init__) method. "
   ]
  },
  {
   "cell_type": "code",
   "execution_count": null,
   "metadata": {
    "lines_to_next_cell": 1,
    "title": "codecell"
   },
   "outputs": [],
   "source": [
    "class Example():\n",
    "    def __init__(self):\n",
    "        print('Running init')\n",
    "        self.some_variable = 1"
   ]
  },
  {
   "cell_type": "code",
   "execution_count": null,
   "metadata": {
    "lines_to_next_cell": 1,
    "title": "codecell"
   },
   "outputs": [],
   "source": [
    "e = Example()\n",
    "print(f'Value {e.some_variable}')"
   ]
  },
  {
   "cell_type": "markdown",
   "metadata": {
    "region_name": "md"
   },
   "source": [
    "# Constructors & Inheritance\n",
    "If you don't initiatlize your base class it's\n",
    "dunder init will not run.  Any initialization\n",
    "that would occur there does not run."
   ]
  },
  {
   "cell_type": "code",
   "execution_count": null,
   "metadata": {
    "lines_to_next_cell": 1,
    "title": "codecell"
   },
   "outputs": [],
   "source": [
    "class Example():\n",
    "    def __init__(self):\n",
    "        print('Running Example Init')\n",
    "        self.example_variable = 1\n",
    "\n",
    "class Derived(Example):\n",
    "    def __init__(self):\n",
    "        print('Running Derived Init')\n",
    "        self.derived_variable = 2"
   ]
  },
  {
   "cell_type": "code",
   "execution_count": null,
   "metadata": {
    "lines_to_next_cell": 1,
    "title": "codecell"
   },
   "outputs": [],
   "source": [
    "d = Derived()\n",
    "print(f'Example Variable {d.example_variable}')\n",
    "print(f'Derived Variable {d.derived_variable}')"
   ]
  },
  {
   "cell_type": "markdown",
   "metadata": {
    "region_name": "md"
   },
   "source": [
    "# Super\n",
    "You can initialize your base class with a call to super().__init__()"
   ]
  },
  {
   "cell_type": "code",
   "execution_count": null,
   "metadata": {
    "lines_to_next_cell": 1,
    "title": "codecell"
   },
   "outputs": [],
   "source": [
    "class Example():\n",
    "    def __init__(self):\n",
    "        print('Running Example Init')\n",
    "        self.example_variable = 1\n",
    "\n",
    "class Derived(Example):\n",
    "    def __init__(self):\n",
    "        super().__init__()\n",
    "        print('Running Derived Init')\n",
    "        self.derived_variable = 2"
   ]
  },
  {
   "cell_type": "code",
   "execution_count": null,
   "metadata": {
    "lines_to_next_cell": 1,
    "title": "codecell"
   },
   "outputs": [],
   "source": [
    "d = Derived()\n",
    "print(f'Example Variable {d.example_variable}')\n",
    "print(f'Derived Variable {d.derived_variable}')"
   ]
  },
  {
   "cell_type": "markdown",
   "metadata": {
    "region_name": "md"
   },
   "source": [
    "# Super\n",
    "You can pass parameters as defined in __init__ to super's dunder init (constructor)"
   ]
  },
  {
   "cell_type": "code",
   "execution_count": null,
   "metadata": {
    "lines_to_next_cell": 1,
    "title": "codecell"
   },
   "outputs": [],
   "source": [
    "class Example():\n",
    "    def __init__(self, value):\n",
    "        print('Running Example Init')\n",
    "        self.example_variable = value\n",
    "\n",
    "class Derived(Example):\n",
    "    def __init__(self, value):\n",
    "        super().__init__(value ** 2)\n",
    "        print('Running Derived Init')\n",
    "        self.derived_variable = value"
   ]
  },
  {
   "cell_type": "code",
   "execution_count": null,
   "metadata": {
    "lines_to_next_cell": 1,
    "title": "codecell"
   },
   "outputs": [],
   "source": [
    "d = Derived(4)\n",
    "print(f'Example Variable {d.example_variable}')\n",
    "print(f'Derived Variable {d.derived_variable}')"
   ]
  },
  {
   "cell_type": "markdown",
   "metadata": {
    "region_name": "md"
   },
   "source": [
    "# Recall Aminals, Dogs & Cats"
   ]
  },
  {
   "cell_type": "code",
   "execution_count": null,
   "metadata": {
    "title": "codecell"
   },
   "outputs": [],
   "source": [
    "class Animal():\n",
    "    pass\n",
    "\n",
    "class Dog(Animal):\n",
    "    def __init__(self):\n",
    "        self.lives = 1\n",
    "        \n",
    "    def sound(self):\n",
    "        return \"Bark\"\n",
    "\n",
    "class Cat(Animal):\n",
    "    def __init__(self):\n",
    "        self.lives = 9\n",
    "\n",
    "    def sound(self):\n",
    "        return \"Meow\""
   ]
  },
  {
   "cell_type": "markdown",
   "metadata": {
    "lines_to_next_cell": 2,
    "region_name": "md"
   },
   "source": [
    "# Refactor Aminals, Dogs & Cats\n",
    "We want to push the definition of lives into our base class since it \n",
    "pertains to both cats and dogs (and presumably any animal)"
   ]
  },
  {
   "cell_type": "code",
   "execution_count": null,
   "metadata": {
    "lines_to_next_cell": 1,
    "title": "codecell"
   },
   "outputs": [],
   "source": [
    "class Animal():\n",
    "    def __init__(self, lives=1):\n",
    "        self.lives = lives\n",
    "\n",
    "class Dog(Animal):\n",
    "    def __init__(self):\n",
    "        super().__init__(lives=1)\n",
    "        \n",
    "    def sound(self):\n",
    "        return \"Bark\"\n",
    "\n",
    "class Cat(Animal):\n",
    "    def __init__(self):\n",
    "        super().__init__(lives=9)\n",
    "\n",
    "    def sound(self):\n",
    "        return \"Meow\""
   ]
  },
  {
   "cell_type": "code",
   "execution_count": null,
   "metadata": {
    "title": "codecell"
   },
   "outputs": [],
   "source": [
    "animal = Animal()\n",
    "print(animal.lives)\n",
    "\n",
    "dog = Dog()\n",
    "print(dog.lives)\n",
    "\n",
    "cat = Cat()\n",
    "print(cat.lives)"
   ]
  }
 ],
 "metadata": {
  "jupytext": {
   "cell_metadata_filter": "title,region_name,-all",
   "main_language": "python",
   "notebook_metadata_filter": "-all"
  }
 },
 "nbformat": 4,
 "nbformat_minor": 2
}
