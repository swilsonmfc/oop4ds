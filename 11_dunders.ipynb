{
 "cells": [
  {
   "cell_type": "markdown",
   "metadata": {
    "region_name": "md"
   },
   "source": [
    "# Dunders\n",
    "* Named for the double underscore surrounding the method\n",
    "* These methods affect how your classes function and respond"
   ]
  },
  {
   "cell_type": "markdown",
   "metadata": {
    "region_name": "md"
   },
   "source": [
    "# Constructors\n",
    "There are two methods invoked when you create an object.\n",
    "* __new__ \n",
    "* __init__\n",
    "* New creates an object in memory\n",
    "* Init gives you an opportunity to initiatize the object before handing it to a client.  \n",
    "* It is relatively uncommon to override new\n",
    "* Frequently, you will implement __init__."
   ]
  },
  {
   "cell_type": "code",
   "execution_count": null,
   "metadata": {
    "lines_to_next_cell": 1,
    "title": "codecell"
   },
   "outputs": [],
   "source": [
    "class Example():\n",
    "    def __init__(self):\n",
    "        print('Running init')\n",
    "        self.some_variable = 1"
   ]
  },
  {
   "cell_type": "code",
   "execution_count": null,
   "metadata": {
    "title": "codecell"
   },
   "outputs": [],
   "source": [
    "e = Example()\n",
    "print(f'Value {e.some_variable}')\n",
    "\n",
    "# # Strings and Representing\n",
    "# In addition to constructors and initialization (__init__)\n",
    "# Dunders control several aspects of objects.\n",
    "# * str  = familiar output from print\n",
    "# * repr = debugging and formal representation\n",
    "# * print looks for __str__, then __repr__"
   ]
  },
  {
   "cell_type": "code",
   "execution_count": null,
   "metadata": {
    "title": "codecell"
   },
   "outputs": [],
   "source": [
    "class Point:\n",
    "\n",
    "    # Constructor\n",
    "    def __init__(self, x, y):\n",
    "       self.x = x\n",
    "       self.y = y\n",
    "\n",
    "    # Called by repr(). Object information\n",
    "    def __repr__(self):\n",
    "        return f'{self.__class__.__name__}, ({self.x}, {self.y})'\n",
    "\n",
    "    # Called by str(). Readable formatting\n",
    "    def __str__(self):\n",
    "        return f'({self.x}, {self.y})'"
   ]
  },
  {
   "cell_type": "code",
   "execution_count": null,
   "metadata": {
    "title": "codecell"
   },
   "outputs": [],
   "source": [
    "# Examples\n",
    "p = Point(10, 20)\n",
    "\n",
    "# str / print\n",
    "print(str(p))  # Same as \"print t\"\n",
    "print(p)\n",
    "\n",
    "# repr\n",
    "print(repr(p))"
   ]
  },
  {
   "cell_type": "markdown",
   "metadata": {
    "region_name": "md"
   },
   "source": [
    "# Arithmetic Dunders\n",
    "Special dunders implement arithmetic operations + - * /\n",
    "* Plus : __add__\n",
    "* Subtract : __sub__\n",
    "* Multiply : __mul__\n",
    "* Divide : __div__"
   ]
  },
  {
   "cell_type": "code",
   "execution_count": null,
   "metadata": {
    "lines_to_next_cell": 1,
    "title": "codecell"
   },
   "outputs": [],
   "source": [
    "class Point:\n",
    "\n",
    "    # Constructor\n",
    "    def __init__(self, x, y):\n",
    "       self.x = x\n",
    "       self.y = y\n",
    "\n",
    "    # Called by repr(). Object information\n",
    "    def __repr__(self):\n",
    "        return f'{self.__class__.__name__}, ({self.x}, {self.y})'\n",
    "\n",
    "    # Called by str(). Readable formatting\n",
    "    def __str__(self):\n",
    "        return f'({self.x}, {self.y})'\n",
    "\n",
    "    # Adding Points\n",
    "    def __add__(self, obj):\n",
    "        return (self.x + obj.x, self.y + obj.y)"
   ]
  },
  {
   "cell_type": "code",
   "execution_count": null,
   "metadata": {
    "lines_to_next_cell": 1,
    "title": "codecell"
   },
   "outputs": [],
   "source": [
    "p1 = Point(5, 5)\n",
    "p2 = Point(10, 10)\n",
    "p1 + p2"
   ]
  },
  {
   "cell_type": "markdown",
   "metadata": {
    "region_name": "md"
   },
   "source": [
    "# Equality Dunder\n",
    "Special dunder for comparison of equals\n",
    "* Equals : __eq__\n",
    "* Less Than : __lt__\n",
    "* Greater Than : __gt__"
   ]
  },
  {
   "cell_type": "code",
   "execution_count": null,
   "metadata": {
    "lines_to_next_cell": 1,
    "title": "codecell"
   },
   "outputs": [],
   "source": [
    "class Point:\n",
    "\n",
    "    # Constructor\n",
    "    def __init__(self, x, y):\n",
    "       self.x = x\n",
    "       self.y = y\n",
    "\n",
    "    # Called by repr(). Object information\n",
    "    def __repr__(self):\n",
    "        return f'{self.__class__.__name__}, ({self.x}, {self.y})'\n",
    "\n",
    "    # Called by str(). Readable formatting\n",
    "    def __str__(self):\n",
    "        return f'({self.x}, {self.y})'\n",
    "\n",
    "    # Adding Points\n",
    "    def __add__(self, obj):\n",
    "        return (self.x + obj.x, self.y + obj.y)\n",
    "\n",
    "    # Equals\n",
    "    def __eq__(self, obj):\n",
    "        if (self.x == obj.x and self.y == obj.y):\n",
    "            return True\n",
    "        return False"
   ]
  },
  {
   "cell_type": "code",
   "execution_count": null,
   "metadata": {
    "title": "codecell"
   },
   "outputs": [],
   "source": [
    "p1 = Point(5, 5)\n",
    "p2 = Point(5, 10)\n",
    "p3 = Point(10, 5)\n",
    "p4 = Point(5, 5)"
   ]
  },
  {
   "cell_type": "code",
   "execution_count": null,
   "metadata": {
    "title": "codecell"
   },
   "outputs": [],
   "source": [
    "p1 == p2\n",
    "p1 == p3\n",
    "p1 == p4"
   ]
  },
  {
   "cell_type": "markdown",
   "metadata": {
    "region_name": "md"
   },
   "source": [
    "# Hash\n",
    "Defines the hash key a dictionary uses\n",
    "If you derive from Object, you will inherit the __hash__ implementation\n",
    "If you don't derive from Object, you have to implement __hash__\n",
    "Rules for hash:\n",
    "* Hash must never change through the lifetime of an object\n",
    "* Classes are unhashable if you implement __eq__ but not __hash__\n",
    "* Hash does not mean equality.  There can be collisions.\n",
    "* Consider using the hash function to hash an immuatable type (pass a tuple)"
   ]
  },
  {
   "cell_type": "code",
   "execution_count": null,
   "metadata": {
    "lines_to_next_cell": 1,
    "title": "codecell"
   },
   "outputs": [],
   "source": [
    "d = {}\n",
    "p1 = Point(5, 5)\n",
    "d[p1] = 'Treasure'"
   ]
  },
  {
   "cell_type": "code",
   "execution_count": null,
   "metadata": {
    "lines_to_next_cell": 1,
    "title": "codecell"
   },
   "outputs": [],
   "source": [
    "class PointFromObject(object):\n",
    "    pass"
   ]
  },
  {
   "cell_type": "code",
   "execution_count": null,
   "metadata": {
    "lines_to_next_cell": 1,
    "title": "codecell"
   },
   "outputs": [],
   "source": [
    "d = {}\n",
    "p = PointFromObject()\n",
    "d[p] = 'Treasure'\n",
    "d"
   ]
  },
  {
   "cell_type": "code",
   "execution_count": null,
   "metadata": {
    "title": "codecell"
   },
   "outputs": [],
   "source": [
    "class Point:\n",
    "\n",
    "    # Constructor\n",
    "    def __init__(self, x, y):\n",
    "        self._x = x\n",
    "        self._y = y\n",
    "\n",
    "    # Called by repr(). Object information\n",
    "    def __repr__(self):\n",
    "        return f'{self.__class__.__name__}, ({self._x}, {self._y})'\n",
    "\n",
    "    # Called by str(). Readable formatting\n",
    "    def __str__(self):\n",
    "        return f'({self._x}, {self._y})'\n",
    "\n",
    "    # Adding Points\n",
    "    def __add__(self, obj):\n",
    "        return (self._x + obj._x, self._y + obj._y)\n",
    "\n",
    "    # Equals\n",
    "    def __eq__(self, obj):\n",
    "        if (self._x == obj._x and self._y == obj._y):\n",
    "            return True\n",
    "        return False\n",
    "\n",
    "    # hash - a trivial example\n",
    "    # We're using mutable values to define a hash, not a good plan\n",
    "    # So, we've flagged our x and y with an underscore to indicate protected\n",
    "    def __hash__(self):\n",
    "        return hash((self._x, self._y))"
   ]
  },
  {
   "cell_type": "code",
   "execution_count": null,
   "metadata": {
    "lines_to_next_cell": 1,
    "title": "codecell"
   },
   "outputs": [],
   "source": [
    "d = {}\n",
    "d[Point(5, 5)]   = 'Treasure'\n",
    "d[Point(3, 3)]   = 'Trap'\n",
    "d[Point(10, 10)] = 'Ship'\n",
    "d"
   ]
  },
  {
   "cell_type": "markdown",
   "metadata": {
    "region_name": "md"
   },
   "source": [
    "# With Block -- Context Managers\n",
    "* The with block interacts with two dunders\n",
    "* Entering a with block calls __enter__\n",
    "* Exiting a with block calls __exit__\n",
    "* You often see this around a file resource\n",
    "* with open(file) as f: ...\n",
    "* We use this dunder to handle resource clean up automatically"
   ]
  },
  {
   "cell_type": "code",
   "execution_count": null,
   "metadata": {
    "lines_to_next_cell": 1,
    "title": "codecell"
   },
   "outputs": [],
   "source": [
    "class Point:\n",
    "\n",
    "    # Constructor\n",
    "    def __init__(self, x, y):\n",
    "        self._x = x\n",
    "        self._y = y\n",
    "\n",
    "    # Called by repr(). Object information\n",
    "    def __repr__(self):\n",
    "        return f'{self.__class__.__name__}, ({self.x}, {self.y})'\n",
    "\n",
    "    # Called by str(). Readable formatting\n",
    "    def __str__(self):\n",
    "        return f'({self.x}, {self.y})'\n",
    "\n",
    "    # Adding Points\n",
    "    def __add__(self, obj):\n",
    "        return (self._x + obj._x, self._y + obj._y)\n",
    "\n",
    "    # Equals\n",
    "    def __eq__(self, obj):\n",
    "        if (self._x == obj._x and self._y == obj._y):\n",
    "            return True\n",
    "        return False\n",
    "\n",
    "    # Hash\n",
    "    def __hash__(self):\n",
    "        return hash((self._x, self._y))\n",
    "    \n",
    "    # With Support\n",
    "    def __enter__(self):\n",
    "        print('Entering')\n",
    "        \n",
    "    # exc_type - Exception Type\n",
    "    # exc_val  - Exception Value\n",
    "    # exc_tb   - Exception Traceback\n",
    "    def __exit__(self, exc_type, exc_val, exc_tb):\n",
    "        print('Exiting')"
   ]
  },
  {
   "cell_type": "code",
   "execution_count": null,
   "metadata": {
    "lines_to_next_cell": 1,
    "title": "codecell"
   },
   "outputs": [],
   "source": [
    "with (Point(3, 3)) as pt:\n",
    "    print('Using our Point')"
   ]
  },
  {
   "cell_type": "markdown",
   "metadata": {
    "region_name": "md"
   },
   "source": [
    "# Call\n",
    "* Give our class instance a method"
   ]
  },
  {
   "cell_type": "code",
   "execution_count": null,
   "metadata": {
    "lines_to_next_cell": 2,
    "title": "codecell"
   },
   "outputs": [],
   "source": [
    "class Point:\n",
    "\n",
    "    # Constructor\n",
    "    def __init__(self, x, y):\n",
    "        self._x = x\n",
    "        self._y = y\n",
    "\n",
    "    # Called by repr(). Object information\n",
    "    def __repr__(self):\n",
    "        return f'{self.__class__.__name__}, ({self.x}, {self.y})'\n",
    "\n",
    "    # Called by str(). Readable formatting\n",
    "    def __str__(self):\n",
    "        return f'({self.x}, {self.y})'\n",
    "\n",
    "    # Adding Points\n",
    "    def __add__(self, obj):\n",
    "        return (self._x + obj._x, self._y + obj._y)\n",
    "\n",
    "    # Equals\n",
    "    def __eq__(self, obj):\n",
    "        if (self._x == obj._x and self._y == obj._y):\n",
    "            return True\n",
    "        return False\n",
    "\n",
    "    # Hash\n",
    "    def __hash__(self):\n",
    "        return hash((self._x, self._y))\n",
    "    \n",
    "    # With Support\n",
    "    def __enter__(self):\n",
    "        print('Entering')\n",
    "        \n",
    "\n",
    "    def __exit__(self, exc_type, exc_val, exc_tb):\n",
    "        print('Exiting')\n",
    "    \n",
    "    # Call\n",
    "    def __call__(self, val):\n",
    "        if val == 'X' or val == 'x':\n",
    "            return self._x\n",
    "        if val == 'Y' or val == 'y':\n",
    "            return self._y"
   ]
  },
  {
   "cell_type": "code",
   "execution_count": null,
   "metadata": {
    "title": "codecell"
   },
   "outputs": [],
   "source": [
    "c = Point(5,6)\n",
    "print(c('X'))\n",
    "print(c('Y'))"
   ]
  }
 ],
 "metadata": {
  "jupytext": {
   "cell_metadata_filter": "title,region_name,-all",
   "main_language": "python",
   "notebook_metadata_filter": "-all"
  }
 },
 "nbformat": 4,
 "nbformat_minor": 2
}
