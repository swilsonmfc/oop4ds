{
 "cells": [
  {
   "cell_type": "markdown",
   "metadata": {
    "region_name": "md"
   },
   "source": [
    "# State Pattern\n",
    "* How can we enforce viable transitions without heavy use of if statements?"
   ]
  },
  {
   "cell_type": "code",
   "execution_count": null,
   "metadata": {
    "lines_to_next_cell": 1,
    "title": "codecell"
   },
   "outputs": [],
   "source": [
    "class FlightState():\n",
    "    name = 'State'\n",
    "    allowed = []\n",
    "\n",
    "    def switch(self, switchTo):\n",
    "       \"\"\" Switch to new state \"\"\"\n",
    "       if switchTo.name in self.allowed:\n",
    "          print(f'Current: {self.name} => switched to new state {switchTo.name}')\n",
    "          self.__class__ = switchTo\n",
    "       else:\n",
    "          print(f'Current: {self.name} => switching to {switchTo} not possible.')\n",
    "    \n",
    "    def __str__(self):\n",
    "       return self.name\n",
    "   \n",
    "    def __repr__(self):\n",
    "        return self.name"
   ]
  },
  {
   "cell_type": "code",
   "execution_count": null,
   "metadata": {
    "lines_to_next_cell": 1,
    "title": "codecell"
   },
   "outputs": [],
   "source": [
    "class AtGate(FlightState):    \n",
    "    name = 'AtGate'\n",
    "    allowed = ['Taxiing']\n",
    "        \n",
    "class Taxiing(FlightState):\n",
    "    name = 'Taxiing'\n",
    "    allowed = ['AtGate', 'Holding', 'Airborne']\n",
    "    \n",
    "class Airborne(FlightState):\n",
    "    name = 'Airborne'\n",
    "    allowed = ['Climbing']\n",
    "    \n",
    "class Climbing(FlightState):\n",
    "    name = 'Climbing'\n",
    "    allowed = ['Cruising', 'Descending']\n",
    "    \n",
    "class Cruising(FlightState):\n",
    "    name = 'Cruising'\n",
    "    allowed = ['Climbing', 'Descending']\n",
    "    \n",
    "class Descending(FlightState):\n",
    "    name = 'Descending'\n",
    "    allowed = ['Landing']\n",
    "    \n",
    "class Landing(FlightState):\n",
    "    name = 'Landing'\n",
    "    allowed = ['Taxiing']\n",
    "    \n",
    "class Holding(FlightState):\n",
    "    name = 'Holding'\n",
    "    allowed = ['Taxiing']"
   ]
  },
  {
   "cell_type": "code",
   "execution_count": null,
   "metadata": {
    "title": "codecell"
   },
   "outputs": [],
   "source": [
    "class Flight():\n",
    "    def __init__(self, state=AtGate()):\n",
    "        self._state = state\n",
    "        self._history = [state]\n",
    "    \n",
    "    def change(self, state):\n",
    "      \"\"\" Change state \"\"\"\n",
    "      self._state.switch(state)\n",
    "      self._history.append(state)\n",
    "      \n",
    "    def history(self):\n",
    "        for i in self._history:\n",
    "            print(i.name)"
   ]
  },
  {
   "cell_type": "code",
   "execution_count": null,
   "metadata": {
    "title": "codecell"
   },
   "outputs": [],
   "source": [
    "flight75 = Flight()\n",
    "flight75.change(Taxiing)\n",
    "flight75.change(Holding)\n",
    "flight75.change(Taxiing)\n",
    "flight75.change(Airborne)\n",
    "flight75.change(Climbing)\n",
    "flight75.change(Cruising)\n",
    "flight75.change(Descending)\n",
    "flight75.change(Landing)\n",
    "flight75.change(Taxiing)\n",
    "flight75.change(AtGate)"
   ]
  },
  {
   "cell_type": "code",
   "execution_count": null,
   "metadata": {
    "title": "codecell"
   },
   "outputs": [],
   "source": [
    "flight75.history()"
   ]
  }
 ],
 "metadata": {
  "jupytext": {
   "cell_metadata_filter": "title,region_name,-all",
   "main_language": "python",
   "notebook_metadata_filter": "-all"
  }
 },
 "nbformat": 4,
 "nbformat_minor": 2
}
