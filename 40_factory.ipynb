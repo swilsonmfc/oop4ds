{
 "cells": [
  {
   "cell_type": "markdown",
   "metadata": {
    "region_name": "md"
   },
   "source": [
    "# Factory Pattern\n",
    "* Factory is a creational pattern\n",
    "* We use it when we want to control the construction & initialization of objects\n",
    "* In this example:\n",
    "  * We have a Reader that is \"complicated\"\n",
    "  * It has to read from different types of sources\n",
    "  * The sources may have different versions of the data\n",
    "  * We want to hide the complexity of setting up reading"
   ]
  },
  {
   "cell_type": "code",
   "execution_count": null,
   "metadata": {
    "title": "codecell"
   },
   "outputs": [],
   "source": [
    "from abc import ABC\n",
    "from abc import abstractmethod"
   ]
  },
  {
   "cell_type": "markdown",
   "metadata": {
    "region_name": "md"
   },
   "source": [
    "# Data Loading Classes"
   ]
  },
  {
   "cell_type": "code",
   "execution_count": null,
   "metadata": {
    "lines_to_next_cell": 1,
    "title": "codecell"
   },
   "outputs": [],
   "source": [
    "class Loader(ABC):\n",
    "    @abstractmethod\n",
    "    def load(self):\n",
    "        pass\n",
    "    \n",
    "    def read(self):\n",
    "        pass\n",
    "    \n",
    "    def log(self, message):\n",
    "        print(message)\n",
    "        \n",
    "class Version(ABC):\n",
    "    @abstractmethod\n",
    "    def map(self, d:dict):\n",
    "        pass\n",
    "    \n",
    "class Reader():\n",
    "    def __init__(self, loader:Loader, version:Version):\n",
    "        self.loader = loader\n",
    "        self.version = version\n",
    "        \n",
    "    def read(self):\n",
    "        results = []\n",
    "        self.loader.load()\n",
    "        row = self.loader.read()\n",
    "        while row is not None:\n",
    "            mapped = self.version.map(row)\n",
    "            results.append(mapped)\n",
    "            row = self.loader.read()\n",
    "        return results"
   ]
  },
  {
   "cell_type": "markdown",
   "metadata": {
    "region_name": "md"
   },
   "source": [
    "There are three different ways to read in our data\n",
    "* CSV FlatFile\n",
    "* JSON\n",
    "* Database"
   ]
  },
  {
   "cell_type": "code",
   "execution_count": null,
   "metadata": {
    "lines_to_next_cell": 1,
    "title": "codecell"
   },
   "outputs": [],
   "source": [
    "class CSVLoader(Loader):\n",
    "    def load(self):\n",
    "        self.log('Reading from CSV')\n",
    "        \n",
    "class JSONLoader(Loader):\n",
    "    def load(self):\n",
    "        self.log('Reading from JSON')\n",
    "        \n",
    "class DatabaseLoader(Loader):\n",
    "    def load(self):\n",
    "        self.log('Reading from Database')"
   ]
  },
  {
   "cell_type": "code",
   "execution_count": null,
   "metadata": {
    "title": "codecell"
   },
   "outputs": [],
   "source": [
    "l = Loader()"
   ]
  },
  {
   "cell_type": "code",
   "execution_count": null,
   "metadata": {
    "lines_to_next_cell": 1,
    "title": "codecell"
   },
   "outputs": [],
   "source": [
    "loaderCSV = CSVLoader()\n",
    "loaderCSV.load()\n",
    "\n",
    "loaderJSON = JSONLoader()\n",
    "loaderJSON.load()\n",
    "\n",
    "loaderDB = DatabaseLoader()\n",
    "loaderDB.load()"
   ]
  },
  {
   "cell_type": "markdown",
   "metadata": {
    "region_name": "md"
   },
   "source": [
    "There are two versions of data formats\n",
    "* V1\n",
    "* V2"
   ]
  },
  {
   "cell_type": "code",
   "execution_count": null,
   "metadata": {
    "lines_to_next_cell": 1,
    "title": "codecell"
   },
   "outputs": [],
   "source": [
    "class DataVersion1():\n",
    "    def map(self, d:dict):\n",
    "        return (d['item'], d['customer'])\n",
    "\n",
    "class DataVersion2():\n",
    "    def map(self, d:dict):\n",
    "        return (d['item'], d['customer'], d['quantity'])"
   ]
  },
  {
   "cell_type": "markdown",
   "metadata": {
    "region_name": "md"
   },
   "source": [
    "# Creation Pattern\n",
    "What's the best way to pick the loader you need at runtime?"
   ]
  },
  {
   "cell_type": "markdown",
   "metadata": {
    "region_name": "md"
   },
   "source": [
    "## Main Method\n",
    "If we code a main method, we need to select the correct loader type\n",
    "and the correct version.  Our unittests around the main method\n",
    "would need to test all 6 paths in this example along with other duties in the main."
   ]
  },
  {
   "cell_type": "markdown",
   "metadata": {
    "region_name": "md"
   },
   "source": [
    "## Factory Pattern"
   ]
  },
  {
   "cell_type": "code",
   "execution_count": null,
   "metadata": {
    "lines_to_next_cell": 1,
    "title": "codecell"
   },
   "outputs": [],
   "source": [
    "class ReaderFactory():\n",
    "    def getReader(self, config):\n",
    "        loader = None\n",
    "        if config['loader'] == 'CSV':\n",
    "            loader = CSVLoader()\n",
    "        if config['loader'] == 'JSON':\n",
    "            loader = JSONLoader()\n",
    "        if config['loader'] == 'DB':\n",
    "            loader = DatabaseLoader()\n",
    "            \n",
    "        version = None\n",
    "        if config['version'] == 1:\n",
    "            version = DataVersion1()\n",
    "        if config['version'] == 2:\n",
    "            version = DataVersion2()\n",
    "        \n",
    "        return Reader(loader=loader, version=version)"
   ]
  },
  {
   "cell_type": "code",
   "execution_count": null,
   "metadata": {
    "title": "codecell"
   },
   "outputs": [],
   "source": [
    "config = {'loader':'DB', 'version':2}\n",
    "factory = ReaderFactory()\n",
    "reader = factory.getReader(config)\n",
    "reader.read()"
   ]
  }
 ],
 "metadata": {
  "jupytext": {
   "cell_metadata_filter": "title,region_name,-all",
   "main_language": "python",
   "notebook_metadata_filter": "-all"
  }
 },
 "nbformat": 4,
 "nbformat_minor": 2
}
