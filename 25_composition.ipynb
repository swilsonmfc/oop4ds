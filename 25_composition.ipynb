{
 "cells": [
  {
   "cell_type": "markdown",
   "metadata": {
    "lines_to_next_cell": 0,
    "region_name": "md"
   },
   "source": [
    "# Overview\n",
    "\n",
    "We cover how to model relationships and behaviors in this class.\n",
    "* Is A  = Inheritance\n",
    "* Has A = Composition\n"
   ]
  },
  {
   "cell_type": "markdown",
   "metadata": {
    "lines_to_next_cell": 2,
    "region_name": "md"
   },
   "source": [
    "# Example\n",
    "Requirements:\n",
    "* Albums have Songs\n",
    "* Albums have Artists\n",
    "* Bands have more than one artist\n",
    "* Bands, Artists, Songs, and Albums have Names\n",
    "* Albums are sold\n",
    "* Albums that sell 100,000 copies are Gold"
   ]
  },
  {
   "cell_type": "markdown",
   "metadata": {
    "region_name": "md"
   },
   "source": [
    "## Step 1 - Model Entities\n",
    "Tackle modeling the major actors in this system\n",
    "* Album\n",
    "* Song\n",
    "* Artist\n",
    "* Band"
   ]
  },
  {
   "cell_type": "code",
   "execution_count": null,
   "metadata": {
    "lines_to_next_cell": 1,
    "title": "codecell"
   },
   "outputs": [],
   "source": [
    "class Album():\n",
    "    pass\n",
    "\n",
    "class Song():\n",
    "    pass\n",
    "\n",
    "class Artist():\n",
    "    pass\n",
    "\n",
    "class Band():\n",
    "    pass"
   ]
  },
  {
   "cell_type": "markdown",
   "metadata": {
    "region_name": "md"
   },
   "source": [
    "## Step 2 - Model Compositions\n",
    "We assign variables to model compositions\n",
    "* Albums have Songs\n",
    "* Albums have Artists\n",
    "* Bands have Artists"
   ]
  },
  {
   "cell_type": "code",
   "execution_count": null,
   "metadata": {
    "lines_to_next_cell": 3,
    "title": "codecell"
   },
   "outputs": [],
   "source": [
    "class Album():\n",
    "    def __init__(self):\n",
    "        self.songs = []\n",
    "        self.artists = []\n",
    "\n",
    "class Song():\n",
    "    pass\n",
    "\n",
    "class Artist():\n",
    "    pass\n",
    "\n",
    "class Band():\n",
    "    def __init__(self):\n",
    "        self.artists = []"
   ]
  }
 ],
 "metadata": {
  "jupytext": {
   "cell_metadata_filter": "title,region_name,-all",
   "main_language": "python",
   "notebook_metadata_filter": "-all"
  }
 },
 "nbformat": 4,
 "nbformat_minor": 2
}
