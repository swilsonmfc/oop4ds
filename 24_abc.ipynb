{
 "cells": [
  {
   "cell_type": "markdown",
   "metadata": {
    "region_name": "md"
   },
   "source": [
    "# Abstract Base Classes\n",
    "Abstract base classes enforces rules in inheritence"
   ]
  },
  {
   "cell_type": "code",
   "execution_count": null,
   "metadata": {
    "lines_to_next_cell": 1,
    "title": "codecell"
   },
   "outputs": [],
   "source": [
    "from abc import ABC\n",
    "from abc import abstractmethod"
   ]
  },
  {
   "cell_type": "markdown",
   "metadata": {
    "region_name": "md"
   },
   "source": [
    "# Abstract Base Class\n",
    "* You can inherit from an ABC, but you can't create an instance of one\n",
    "* It can define abstract methods, that derived classes must implment\n",
    "* It can have concrete methods (and properties) that derived methods inherit"
   ]
  },
  {
   "cell_type": "code",
   "execution_count": null,
   "metadata": {
    "lines_to_next_cell": 1,
    "title": "codecell"
   },
   "outputs": [],
   "source": [
    "\n",
    "class Vehicle(ABC):\n",
    "    \n",
    "    @abstractmethod\n",
    "    def move(self):\n",
    "        pass\n",
    "    \n",
    "    @abstractmethod\n",
    "    def park(self):\n",
    "        pass"
   ]
  },
  {
   "cell_type": "code",
   "execution_count": null,
   "metadata": {
    "lines_to_next_cell": 1,
    "title": "codecell"
   },
   "outputs": [],
   "source": [
    "vehicle = Vehicle()"
   ]
  },
  {
   "cell_type": "markdown",
   "metadata": {
    "region_name": "md"
   },
   "source": [
    "# Derived Classes\n",
    "* Car\n",
    "* Airplane"
   ]
  },
  {
   "cell_type": "code",
   "execution_count": null,
   "metadata": {
    "lines_to_next_cell": 1,
    "title": "codecell"
   },
   "outputs": [],
   "source": [
    "class Car(Vehicle):\n",
    "    \n",
    "    def move(self):\n",
    "        print('Driving')\n",
    "        \n",
    "    def park(self):\n",
    "        print('Garage')\n",
    "       \n",
    "        \n",
    "class Airplane(Vehicle):\n",
    "    \n",
    "    def move(self):\n",
    "        print('Flying')\n",
    "        \n",
    "    def park(self):\n",
    "        print('Hangar')"
   ]
  },
  {
   "cell_type": "code",
   "execution_count": null,
   "metadata": {
    "lines_to_next_cell": 1,
    "title": "codecell"
   },
   "outputs": [],
   "source": [
    "car = Car()\n",
    "car.move()\n",
    "car.park()\n",
    "\n",
    "airplane = Airplane()\n",
    "airplane.move()\n",
    "airplane.park()"
   ]
  },
  {
   "cell_type": "markdown",
   "metadata": {
    "region_name": "md"
   },
   "source": [
    "# Abstract Methods must have a concrete implementation\n",
    "* Let's create a ship, with only move implemented\n",
    "* We get an exception - park isn't implemented"
   ]
  },
  {
   "cell_type": "code",
   "execution_count": null,
   "metadata": {
    "lines_to_next_cell": 1,
    "title": "codecell"
   },
   "outputs": [],
   "source": [
    "class Ship(Vehicle):\n",
    "    \n",
    "    def move(self):\n",
    "        print('Sailing')"
   ]
  },
  {
   "cell_type": "code",
   "execution_count": null,
   "metadata": {
    "title": "codecell"
   },
   "outputs": [],
   "source": [
    "ship = Ship()"
   ]
  },
  {
   "cell_type": "markdown",
   "metadata": {
    "region_name": "md"
   },
   "source": [
    "# Behavior in Abstract Classes\n",
    "* Our Vehicle class keeps a speed int\n",
    "* We can accelerate and stop"
   ]
  },
  {
   "cell_type": "code",
   "execution_count": null,
   "metadata": {
    "lines_to_next_cell": 1,
    "title": "codecell"
   },
   "outputs": [],
   "source": [
    "class Vehicle(ABC):\n",
    "    \n",
    "    def __init__(self):\n",
    "        self._speed = 0\n",
    "    \n",
    "    @abstractmethod\n",
    "    def move(self):\n",
    "        pass\n",
    "    \n",
    "    @abstractmethod\n",
    "    def park(self):\n",
    "        pass\n",
    "    \n",
    "    def accelerate(self, amount):\n",
    "        self._speed += amount\n",
    "        \n",
    "    def stop(self):\n",
    "        self._speed = 0"
   ]
  },
  {
   "cell_type": "markdown",
   "metadata": {
    "region_name": "md"
   },
   "source": [
    "# Derived Classes"
   ]
  },
  {
   "cell_type": "code",
   "execution_count": null,
   "metadata": {
    "title": "codecell"
   },
   "outputs": [],
   "source": [
    "class Car(Vehicle):\n",
    "    \n",
    "    def move(self):\n",
    "        print(f'Driving {self._speed} miles')\n",
    "        \n",
    "    def park(self):\n",
    "        print('Garage')\n",
    "       \n",
    "        \n",
    "class Airplane(Vehicle):\n",
    "    \n",
    "    def move(self):\n",
    "        print(f'Flying {self._speed} miles')\n",
    "        \n",
    "    def park(self):\n",
    "        print('Hangar')"
   ]
  },
  {
   "cell_type": "code",
   "execution_count": null,
   "metadata": {
    "title": "codecell"
   },
   "outputs": [],
   "source": [
    "car = Car()\n",
    "car.accelerate(60)\n",
    "car.move()\n",
    "car.park()\n",
    "car.stop()\n",
    "\n",
    "airplane = Airplane()\n",
    "airplane.accelerate(450)\n",
    "airplane.move()\n",
    "airplane.park() \n",
    "airplane.stop()"
   ]
  },
  {
   "cell_type": "code",
   "execution_count": null,
   "metadata": {
    "title": "codecell"
   },
   "outputs": [],
   "source": [
    "fleet = []\n",
    "fleet.append(Car())\n",
    "fleet.append(Airplane())\n",
    "fleet.append(Car())\n",
    "\n",
    "for vehicle in fleet:\n",
    "    vehicle.accelerate(50)\n",
    "    vehicle.move()"
   ]
  }
 ],
 "metadata": {
  "jupytext": {
   "cell_metadata_filter": "title,region_name,-all",
   "main_language": "python",
   "notebook_metadata_filter": "-all"
  }
 },
 "nbformat": 4,
 "nbformat_minor": 2
}
