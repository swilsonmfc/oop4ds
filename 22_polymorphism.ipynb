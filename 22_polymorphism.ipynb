{
 "cells": [
  {
   "cell_type": "markdown",
   "metadata": {
    "region_name": "md"
   },
   "source": [
    "# Polymorphism\n",
    "* Polymorphism simply means to change.\n",
    "* In the context of OOP, it means that a derived class can change the behavior of a base class"
   ]
  },
  {
   "cell_type": "markdown",
   "metadata": {
    "region_name": "md"
   },
   "source": [
    "# Derived Class\n",
    "Example of defining a base and derived class\n",
    "* In this example, class Birds and Sloths derive from Animal\n",
    "* In other words, Bird is an Animal and Sloth is an Animal"
   ]
  },
  {
   "cell_type": "code",
   "execution_count": null,
   "metadata": {
    "lines_to_next_cell": 1,
    "title": "codecell"
   },
   "outputs": [],
   "source": [
    "class Animal():\n",
    "    pass\n",
    "\n",
    "class Bird(Animal):\n",
    "    pass\n",
    "\n",
    "class Sloth(Animal):\n",
    "    pass"
   ]
  },
  {
   "cell_type": "markdown",
   "metadata": {
    "region_name": "md"
   },
   "source": [
    "# Behavior\n",
    "* We give animals the ability to move\n",
    "* This is defined in the base class\n",
    "* Therefore all animals, including Birds and Sloths can move"
   ]
  },
  {
   "cell_type": "code",
   "execution_count": null,
   "metadata": {
    "lines_to_next_cell": 1,
    "title": "codecell"
   },
   "outputs": [],
   "source": [
    "class Animal():\n",
    "    def move(self):\n",
    "        print('Moving')\n",
    "\n",
    "class Bird(Animal):\n",
    "    pass\n",
    "\n",
    "class Sloth(Animal):\n",
    "    pass"
   ]
  },
  {
   "cell_type": "code",
   "execution_count": null,
   "metadata": {
    "lines_to_next_cell": 1,
    "title": "codecell"
   },
   "outputs": [],
   "source": [
    "a = Animal()\n",
    "a.move()\n",
    "\n",
    "b = Bird()\n",
    "b.move()\n",
    "\n",
    "s = Sloth()\n",
    "s.move()"
   ]
  },
  {
   "cell_type": "markdown",
   "metadata": {
    "region_name": "md"
   },
   "source": [
    "# Polymorphism\n",
    "* Birds and Sloths move differently\n",
    "* We can override or change behavior for specific animals using polymorphism"
   ]
  },
  {
   "cell_type": "code",
   "execution_count": null,
   "metadata": {
    "lines_to_next_cell": 1,
    "title": "codecell"
   },
   "outputs": [],
   "source": [
    "class Animal():\n",
    "    def move(self):\n",
    "        print('Moving')\n",
    "\n",
    "class Bird(Animal):\n",
    "    def move(self):\n",
    "        print('Flying')\n",
    "\n",
    "class Sloth(Animal):\n",
    "    def move(self):\n",
    "        raise Exception('Not Happening')"
   ]
  },
  {
   "cell_type": "code",
   "execution_count": null,
   "metadata": {
    "lines_to_next_cell": 1,
    "title": "codecell"
   },
   "outputs": [],
   "source": [
    "a = Animal()\n",
    "a.move()\n",
    "\n",
    "b = Bird()\n",
    "b.move()\n",
    "\n",
    "s = Sloth()\n",
    "s.move()"
   ]
  },
  {
   "cell_type": "markdown",
   "metadata": {
    "region_name": "md"
   },
   "source": [
    "# Recall Aminals, Dogs & Cats"
   ]
  },
  {
   "cell_type": "code",
   "execution_count": null,
   "metadata": {
    "lines_to_next_cell": 1,
    "title": "codecell"
   },
   "outputs": [],
   "source": [
    "class Animal():\n",
    "    def __init__(self, lives=1):\n",
    "        self.lives = lives\n",
    "\n",
    "class Dog(Animal):\n",
    "    def __init__(self):\n",
    "        super().__init__(lives=1)\n",
    "        \n",
    "    def sound(self):\n",
    "        return \"Bark\"\n",
    "\n",
    "class Cat(Animal):\n",
    "    def __init__(self):\n",
    "        super().__init__(lives=9)\n",
    "\n",
    "    def sound(self):\n",
    "        return \"Meow\""
   ]
  },
  {
   "cell_type": "markdown",
   "metadata": {
    "region_name": "md"
   },
   "source": [
    "# Refactor Aminals, Dogs & Cats\n",
    "We want to push the definition of sound into our base class since it \n",
    "pertains to both cats and dogs (and presumably any animal)\n",
    "We want ot override the behavior in our derived classes."
   ]
  },
  {
   "cell_type": "code",
   "execution_count": null,
   "metadata": {
    "lines_to_next_cell": 1,
    "title": "codecell"
   },
   "outputs": [],
   "source": [
    "class Animal():\n",
    "    def __init__(self, lives=1):\n",
    "        self.lives = lives\n",
    "        \n",
    "    def sound(self):\n",
    "        return \"Sound\"\n",
    "\n",
    "class Dog(Animal):\n",
    "    def __init__(self):\n",
    "        super().__init__(lives=1)\n",
    "        \n",
    "    def sound(self):\n",
    "        return \"Bark\"\n",
    "\n",
    "class Cat(Animal):\n",
    "    def __init__(self):\n",
    "        super().__init__(lives=9)\n",
    "\n",
    "    def sound(self):\n",
    "        return \"Meow\""
   ]
  },
  {
   "cell_type": "code",
   "execution_count": null,
   "metadata": {
    "title": "codecell"
   },
   "outputs": [],
   "source": [
    "animal = Animal()\n",
    "print(animal.sound())\n",
    "\n",
    "dog = Dog()\n",
    "print(dog.sound())\n",
    "\n",
    "cat = Cat()\n",
    "print(cat.sound())"
   ]
  }
 ],
 "metadata": {
  "jupytext": {
   "cell_metadata_filter": "title,region_name,-all",
   "main_language": "python",
   "notebook_metadata_filter": "-all"
  }
 },
 "nbformat": 4,
 "nbformat_minor": 2
}
