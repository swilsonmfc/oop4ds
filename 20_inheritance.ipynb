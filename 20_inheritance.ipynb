{
 "cells": [
  {
   "cell_type": "markdown",
   "metadata": {
    "region_name": "md"
   },
   "source": [
    "# Overview\n",
    "\n",
    "We cover how to model relationships and behaviors in this class.\n",
    "* Is A  = Inheritance\n",
    "* Behavior = Functions\n",
    "* State = Variables\n",
    "\n",
    "We model inheritance with classes and base classes."
   ]
  },
  {
   "cell_type": "markdown",
   "metadata": {
    "region_name": "md"
   },
   "source": [
    "# Example\n",
    "Requirements:\n",
    "* Dog is an Animal\n",
    "* Cat is an Animal\n",
    "* Dogs bark\n",
    "* Cats meow\n",
    "* Cats have 9 lives "
   ]
  },
  {
   "cell_type": "markdown",
   "metadata": {
    "region_name": "md"
   },
   "source": [
    "## Step 1 - Model Relationships\n",
    "* We would consider creating an Animal base class with two derived classes, Dog and Cat.  \n",
    "* Classes then form a heirarchical relationship.\n",
    "* Dog is an Animal\n",
    "* Cat is an Animal"
   ]
  },
  {
   "cell_type": "code",
   "execution_count": null,
   "metadata": {
    "lines_to_next_cell": 1,
    "title": "codecell"
   },
   "outputs": [],
   "source": [
    "class Animal():\n",
    "    pass\n",
    "\n",
    "class Dog(Animal):\n",
    "    \"\"\"\n",
    "    Dog is an Animal.\n",
    "    \"\"\"\n",
    "    pass\n",
    "\n",
    "class Cat(Animal):\n",
    "    \"\"\"\n",
    "    Cat is an Animal\n",
    "    \"\"\"\n",
    "    pass"
   ]
  },
  {
   "cell_type": "markdown",
   "metadata": {
    "region_name": "md"
   },
   "source": [
    "## Step 2 - Model Behaviors\n",
    "We define functions to model the sound behavior.  We place these functions\n",
    "in the class heirarchy based on our requirements.\n",
    "* Cats meow\n",
    "* Dogs bark\n",
    "* Note:  We'll build on this simple model over the next few notebooks "
   ]
  },
  {
   "cell_type": "code",
   "execution_count": null,
   "metadata": {
    "lines_to_next_cell": 1,
    "title": "codecell"
   },
   "outputs": [],
   "source": [
    "class Animal():\n",
    "    pass\n",
    "\n",
    "class Dog(Animal):\n",
    "    def sound(self):\n",
    "        \"\"\"\n",
    "        Dogs bark\n",
    "        \"\"\"\n",
    "        return \"Bark\"\n",
    "\n",
    "class Cat(Animal):\n",
    "    def sound(self):\n",
    "        \"\"\"\n",
    "        Cats meow\n",
    "        \"\"\"\n",
    "        return \"Meow\""
   ]
  },
  {
   "cell_type": "code",
   "execution_count": null,
   "metadata": {
    "lines_to_next_cell": 1,
    "title": "codecell"
   },
   "outputs": [],
   "source": [
    "animal = Animal()\n",
    "\n",
    "dog = Dog()\n",
    "print(dog.sound())\n",
    "\n",
    "cat = Cat()\n",
    "print(cat.sound())"
   ]
  },
  {
   "cell_type": "markdown",
   "metadata": {
    "region_name": "md"
   },
   "source": [
    "## Step 3 - Model State\n",
    "We use member variables to model state\n",
    "* Cats have 9 lives\n",
    "* Seems wrong for dogs not to have lives"
   ]
  },
  {
   "cell_type": "code",
   "execution_count": null,
   "metadata": {
    "lines_to_next_cell": 1,
    "title": "codecell"
   },
   "outputs": [],
   "source": [
    "class Animal():\n",
    "    pass\n",
    "\n",
    "class Dog(Animal):\n",
    "    def __init__(self):\n",
    "        self.lives = 1\n",
    "        \n",
    "    def sound(self):\n",
    "        return \"Bark\"\n",
    "\n",
    "class Cat(Animal):\n",
    "    def __init__(self):\n",
    "        self.lives = 9\n",
    "\n",
    "    def sound(self):\n",
    "        return \"Meow\""
   ]
  },
  {
   "cell_type": "code",
   "execution_count": null,
   "metadata": {
    "lines_to_next_cell": 1,
    "title": "codecell"
   },
   "outputs": [],
   "source": [
    "cat = Cat()\n",
    "print(f'Cat has {cat.lives} lives')\n",
    "\n",
    "dog = Dog()\n",
    "print(f'Dog has {dog.lives} lives')"
   ]
  },
  {
   "cell_type": "markdown",
   "metadata": {
    "region_name": "md"
   },
   "source": [
    "# Inheritance Trees\n",
    "* No rule on how deep you can go with classes\n",
    "* For example:\n",
    "  * Working is a type of dog\n",
    "  * Hunting is a type of dog\n",
    "  * Lap is a type of dog"
   ]
  },
  {
   "cell_type": "code",
   "execution_count": null,
   "metadata": {
    "lines_to_next_cell": 1,
    "title": "codecell"
   },
   "outputs": [],
   "source": [
    "class Animal():\n",
    "    def __init__(self, lives=1):\n",
    "        self.lives = lives\n",
    "\n",
    "class Dog(Animal):\n",
    "    def __init__(self):\n",
    "        super().__init__()\n",
    "\n",
    "    def sound(self):\n",
    "        return \"Bark\"\n",
    "    \n",
    "class WorkingDog(Dog):\n",
    "    pass\n",
    "\n",
    "class HuntingDog(Dog):\n",
    "    pass\n",
    "\n",
    "class LapDog(Dog):\n",
    "    pass"
   ]
  },
  {
   "cell_type": "code",
   "execution_count": null,
   "metadata": {
    "lines_to_next_cell": 3,
    "title": "codecell"
   },
   "outputs": [],
   "source": [
    "pebbles = LapDog()\n",
    "print(pebbles.sound())\n",
    "print(pebbles.lives)"
   ]
  }
 ],
 "metadata": {
  "jupytext": {
   "cell_metadata_filter": "title,region_name,-all",
   "main_language": "python",
   "notebook_metadata_filter": "-all"
  }
 },
 "nbformat": 4,
 "nbformat_minor": 2
}
