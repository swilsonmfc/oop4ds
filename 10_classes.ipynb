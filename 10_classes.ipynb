{
 "cells": [
  {
   "cell_type": "markdown",
   "metadata": {
    "lines_to_next_cell": 2,
    "region_name": "md"
   },
   "source": [
    "# Introduction\n",
    "* Real world objects have state and behavior\n",
    "* Software objects have state and behavior\n",
    "  * State = variables\n",
    "  * Behavior = functions"
   ]
  },
  {
   "cell_type": "markdown",
   "metadata": {
    "region_name": "md"
   },
   "source": [
    "# Class\n",
    "* A Class is our building block for modeling the real world\n",
    "* In python we define a class as a template for objects we want to use\n",
    "* When we create a class, we create an instance of the class\n",
    "* Think \"is a\" for a class"
   ]
  },
  {
   "cell_type": "code",
   "execution_count": null,
   "metadata": {
    "lines_to_next_cell": 1,
    "title": "codecell"
   },
   "outputs": [],
   "source": [
    "class A():\n",
    "    pass"
   ]
  },
  {
   "cell_type": "code",
   "execution_count": null,
   "metadata": {
    "lines_to_next_cell": 1,
    "title": "codecell"
   },
   "outputs": [],
   "source": [
    "a = A()"
   ]
  },
  {
   "cell_type": "markdown",
   "metadata": {
    "region_name": "md"
   },
   "source": [
    "# State\n",
    "* State is represented by variables in a class"
   ]
  },
  {
   "cell_type": "code",
   "execution_count": null,
   "metadata": {
    "lines_to_next_cell": 1,
    "title": "codecell"
   },
   "outputs": [],
   "source": [
    "class A():\n",
    "    state = 'My State'"
   ]
  },
  {
   "cell_type": "code",
   "execution_count": null,
   "metadata": {
    "lines_to_next_cell": 1,
    "title": "codecell"
   },
   "outputs": [],
   "source": [
    "a = A()\n",
    "print(a.state)"
   ]
  },
  {
   "cell_type": "markdown",
   "metadata": {
    "region_name": "md"
   },
   "source": [
    "# Behavior\n",
    "* Methods represent behavior in classes"
   ]
  },
  {
   "cell_type": "code",
   "execution_count": null,
   "metadata": {
    "lines_to_next_cell": 1,
    "title": "codecell"
   },
   "outputs": [],
   "source": [
    "class A():\n",
    "    def behavior(self, do):\n",
    "        print('Doing', do)"
   ]
  },
  {
   "cell_type": "code",
   "execution_count": null,
   "metadata": {
    "lines_to_next_cell": 1,
    "title": "codecell"
   },
   "outputs": [],
   "source": [
    "a = A()\n",
    "a.behavior('Move')"
   ]
  },
  {
   "cell_type": "markdown",
   "metadata": {
    "region_name": "md"
   },
   "source": [
    "# Self\n",
    "* Reference to the object\n",
    "* In some languages it is implied (java - this)\n",
    "* In Python it's explicit declared in functions\n",
    "* A method defined with self in a class is available using the . followed by the function name."
   ]
  },
  {
   "cell_type": "code",
   "execution_count": null,
   "metadata": {
    "lines_to_next_cell": 1,
    "title": "codecell"
   },
   "outputs": [],
   "source": [
    "class A():\n",
    "    def __init__(self, action):\n",
    "        self.action = action\n",
    "        \n",
    "    def behavior(self):\n",
    "        print('Doing', self.action)"
   ]
  },
  {
   "cell_type": "code",
   "execution_count": null,
   "metadata": {
    "lines_to_next_cell": 2,
    "title": "codecell"
   },
   "outputs": [],
   "source": [
    "a1 = A('Run')\n",
    "a1.behavior()\n",
    "\n",
    "a2 = A('Walk')\n",
    "a2.behavior()"
   ]
  },
  {
   "cell_type": "markdown",
   "metadata": {
    "region_name": "md"
   },
   "source": [
    "# Why Classes\n",
    "* Modularity - Modular classes allow you to define in one place independent of other objects\n",
    "* Code Re-Use - Share the implementation within and between projects\n",
    "* Manage Complexity - Classes model real world objects and improve readability / understanding\n",
    "* Debugging - Hiding information in classes makes debugging easier "
   ]
  }
 ],
 "metadata": {
  "jupytext": {
   "cell_metadata_filter": "title,region_name,-all",
   "main_language": "python",
   "notebook_metadata_filter": "-all"
  }
 },
 "nbformat": 4,
 "nbformat_minor": 2
}
