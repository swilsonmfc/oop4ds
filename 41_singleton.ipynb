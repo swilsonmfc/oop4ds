{
 "cells": [
  {
   "cell_type": "markdown",
   "metadata": {
    "region_name": "md"
   },
   "source": [
    "# Singletons\n",
    "* With a singleton, we want exactly one instance of a class created\n",
    "* This is typically done so we can manage state in a centralized location\n",
    "* An example would of a singleton, may be a logger that manages writing to one or more files.  \n",
    "* We want to use the logger from many places and it's convenient to create an instance of a logger as needed"
   ]
  },
  {
   "cell_type": "code",
   "execution_count": null,
   "metadata": {
    "lines_to_next_cell": 1,
    "title": "codecell"
   },
   "outputs": [],
   "source": [
    "class NotSingleton(object):\n",
    "    pass"
   ]
  },
  {
   "cell_type": "code",
   "execution_count": null,
   "metadata": {
    "lines_to_next_cell": 1,
    "title": "codecell"
   },
   "outputs": [],
   "source": [
    "ns1 = NotSingleton()\n",
    "ns2 = NotSingleton()\n",
    "\n",
    "print(ns1)\n",
    "print(ns2)\n",
    "print(ns1 == ns2)\n",
    "print(ns1 is ns2)"
   ]
  },
  {
   "cell_type": "markdown",
   "metadata": {
    "region_name": "md"
   },
   "source": [
    "The == operator compares the values of both the operands and checks for value equality. \n",
    "Whereas is operator checks whether both the operands refer to the same object or not."
   ]
  },
  {
   "cell_type": "markdown",
   "metadata": {
    "region_name": "md"
   },
   "source": [
    "# Dunder __new__\n",
    "* The key to creating a singleton, is intercepting the dunder __new__ method.\n",
    "* This is called when we want to construct an instance.  \n",
    "* If you look at the signature, it's a class method.  \n",
    "* Within the method, we look to see if an instance of our class exists.  \n",
    "* If it does, we return that instance. \n",
    "* If it does not, we create an instance of the class, save it in our Singleton class and return the instance."
   ]
  },
  {
   "cell_type": "code",
   "execution_count": null,
   "metadata": {
    "lines_to_next_cell": 1,
    "title": "codecell"
   },
   "outputs": [],
   "source": [
    "class Singleton(object):\n",
    "    _instance = None  \n",
    "    \n",
    "    def __new__(cls, *args, **kwargs):\n",
    "        if not cls._instance:\n",
    "            cls._instance = object.__new__(cls, *args, **kwargs)\n",
    "        return cls._instance"
   ]
  },
  {
   "cell_type": "code",
   "execution_count": null,
   "metadata": {
    "lines_to_next_cell": 1,
    "title": "codecell"
   },
   "outputs": [],
   "source": [
    "s1 = Singleton()\n",
    "s2 = Singleton()\n",
    "\n",
    "print(s1)\n",
    "print(s2)\n",
    "print(s1 == s2)"
   ]
  },
  {
   "cell_type": "markdown",
   "metadata": {
    "region_name": "md"
   },
   "source": [
    "# Tracking Handouts\n",
    "* A toy example of shared state using a Singleton.  \n",
    "* Our need is to track the number of times we hand out a reference.  \n",
    "* Note:  we need to take special care of our singleton initialization."
   ]
  },
  {
   "cell_type": "code",
   "execution_count": null,
   "metadata": {
    "lines_to_next_cell": 1,
    "title": "codecell"
   },
   "outputs": [],
   "source": [
    "class TrackingSingleton(object):\n",
    "    _instance = None\n",
    "    _handouts = 0\n",
    "    \n",
    "    def __new__(cls, *args, **kwargs):\n",
    "        if not cls._instance:\n",
    "            cls._instance = object.__new__(cls, *args, **kwargs)\n",
    "        return cls._instance\n",
    "    \n",
    "    def handout(self):\n",
    "        TrackingSingleton._handouts += 1\n",
    "        return TrackingSingleton._handouts\n",
    "    \n",
    "    def handedOut(self):\n",
    "        return TrackingSingleton._handouts"
   ]
  },
  {
   "cell_type": "code",
   "execution_count": null,
   "metadata": {
    "title": "codecell"
   },
   "outputs": [],
   "source": [
    "ts1 = TrackingSingleton()\n",
    "print(ts1.handout())\n",
    "\n",
    "ts2 = TrackingSingleton()\n",
    "print(ts2.handout())\n",
    "\n",
    "print(ts1.handedOut())\n",
    "print(ts2.handedOut())"
   ]
  },
  {
   "cell_type": "markdown",
   "metadata": {
    "region_name": "md"
   },
   "source": [
    "# Enforcing Maximum Handouts\n",
    "We have state in our instance class that we need to run exactly once"
   ]
  },
  {
   "cell_type": "code",
   "execution_count": null,
   "metadata": {
    "lines_to_next_cell": 1,
    "title": "codecell"
   },
   "outputs": [],
   "source": [
    "class MaxHandoutSingleton(object):\n",
    "    _instance = None\n",
    "    \n",
    "    def __new__(cls, *args, **kwargs):\n",
    "        if not cls._instance:\n",
    "            cls._instance = object.__new__(cls, *args, **kwargs)\n",
    "            \n",
    "            # Setup our instance state on max handouts & current handouts\n",
    "            cls._instance._handouts = 0\n",
    "            cls._instance._max = 3\n",
    "        \n",
    "        return cls._instance\n",
    "    \n",
    "    def __init__(self):\n",
    "        # Runs on every construction\n",
    "        pass\n",
    "    \n",
    "    def handout(self):\n",
    "        if self._handouts == self._max:\n",
    "            raise Exception('Max Handouts Reached')\n",
    "        self._handouts += 1\n",
    "        return self._handouts\n",
    "    \n",
    "    def turnin(self):\n",
    "        self._handouts -= 1\n",
    "    \n",
    "    def handedOut(self):\n",
    "        return self._handouts"
   ]
  },
  {
   "cell_type": "code",
   "execution_count": null,
   "metadata": {
    "title": "codecell"
   },
   "outputs": [],
   "source": [
    "maxer = MaxHandoutSingleton()  \n",
    "maxer.handout(); print(maxer.handedOut())\n",
    "maxer.handout(); print(maxer.handedOut())\n",
    "maxer.handout(); print(maxer.handedOut())\n",
    "maxer.handout()"
   ]
  },
  {
   "cell_type": "code",
   "execution_count": null,
   "metadata": {
    "lines_to_next_cell": 1,
    "title": "codecell"
   },
   "outputs": [],
   "source": [
    "maxer.turnin()\n",
    "maxer.turnin()\n",
    "print(maxer.handedOut())"
   ]
  },
  {
   "cell_type": "markdown",
   "metadata": {
    "region_name": "md"
   },
   "source": [
    "# Singleton Factory\n",
    "It's common to make our singleton the basis of a Factory pattern"
   ]
  },
  {
   "cell_type": "code",
   "execution_count": null,
   "metadata": {
    "title": "codecell"
   },
   "outputs": [],
   "source": [
    "class LimitedResource():\n",
    "    def __init__(self, id):\n",
    "        self._id = id\n",
    "        \n",
    "    def __enter__(self):\n",
    "        print(' Entering')\n",
    "\n",
    "    def __exit__(self, exc_type, exc_val, exc_tb):\n",
    "        print(' Exiting')\n",
    "        factory = LimitedResourceFactory()\n",
    "        factory.returnItem(self)\n",
    "        \n",
    "\n",
    "class LimitedResourceFactory(object):\n",
    "    _instance = None\n",
    "        \n",
    "    def __new__(cls, *args, **kwargs): \n",
    "        print('New')\n",
    "        if not cls._instance:\n",
    "            cls._instance = object.__new__(cls, *args, **kwargs)\n",
    "            cls._instance._initialized = False\n",
    "        return cls._instance\n",
    "    \n",
    "    def __init__(self):\n",
    "        \"\"\"\n",
    "        Create items in a pool of resources\n",
    "        \"\"\"\n",
    "        if self._initialized == False:\n",
    "            print('Init')\n",
    "            self.pool = []\n",
    "            self.out  = []       \n",
    "            for x in range(3):\n",
    "                self.pool.append(LimitedResource(x))\n",
    "            self._initialized = True\n",
    "        \n",
    "    \n",
    "    def checkoutItem(self):\n",
    "        \"\"\"\n",
    "        Take an item from the pool or exception if not available\n",
    "        \"\"\"\n",
    "        if len(self.pool) == 0:\n",
    "            raise('No Resources Available')\n",
    "        item = self.pool.pop()\n",
    "        self.out.append(item)\n",
    "        print(f'Handing out item {item._id}')\n",
    "        return item\n",
    "    \n",
    "    def returnItem(self, item):\n",
    "        \"\"\"\n",
    "        Returns to the pool\n",
    "        (Note, not checking edge cases, like called twice etc)\n",
    "        \"\"\"\n",
    "        print(f'Item {item._id} returned to pool')\n",
    "        self.out.remove(item)\n",
    "        self.pool.append(item)\n",
    "        \n",
    "    def status(self):\n",
    "        print('Pool Status')\n",
    "        for i in self.pool:\n",
    "            print(f' Item {i._id} in pool')\n",
    "        for i in self.out:\n",
    "            print(f' Item {i._id} handed out')"
   ]
  },
  {
   "cell_type": "code",
   "execution_count": null,
   "metadata": {
    "title": "codecell"
   },
   "outputs": [],
   "source": [
    "with LimitedResourceFactory().checkoutItem() as item:\n",
    "    print('  Doing some work!!!')\n",
    "    print('\\n')\n",
    "    LimitedResourceFactory().status()\n",
    "    print('\\n')\n",
    "    \n",
    "print('After Complete')\n",
    "LimitedResourceFactory().status()"
   ]
  },
  {
   "cell_type": "code",
   "execution_count": null,
   "metadata": {
    "title": "codecell"
   },
   "outputs": [],
   "source": [
    "item = LimitedResourceFactory().checkoutItem()\n",
    "print('Doing more work!!!')\n",
    "LimitedResourceFactory().status()\n",
    "print('Returning Item')\n",
    "LimitedResourceFactory().returnItem(item)\n",
    "LimitedResourceFactory().status()"
   ]
  }
 ],
 "metadata": {
  "jupytext": {
   "cell_metadata_filter": "title,region_name,-all",
   "main_language": "python",
   "notebook_metadata_filter": "-all"
  }
 },
 "nbformat": 4,
 "nbformat_minor": 2
}
