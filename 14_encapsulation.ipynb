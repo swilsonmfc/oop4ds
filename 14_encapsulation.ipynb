{
 "cells": [
  {
   "cell_type": "markdown",
   "metadata": {
    "region_name": "md"
   },
   "source": [
    "# Encapsulation\n",
    "* Co-locate state & behavior & Hide details\n",
    "* Bundling of data with the methods that operate on that data\n",
    "* Restricting direct access to some of an object's components\n",
    "* Two Approaches\n",
    "  * Protected - Convention\n",
    "  * Private - Compiler"
   ]
  },
  {
   "cell_type": "markdown",
   "metadata": {
    "region_name": "md"
   },
   "source": [
    "# Protected Methods\n",
    "Use a single underscore to indicate that the method is not part of your API\n",
    "and it should be treated as private.  Note, the compiler and interpreter do\n",
    "not enforce this.  It's on the users of an API to respect protected members."
   ]
  },
  {
   "cell_type": "code",
   "execution_count": null,
   "metadata": {
    "lines_to_next_cell": 1,
    "title": "codecell"
   },
   "outputs": [],
   "source": [
    "class Base():\n",
    "    def public_method(self):\n",
    "        print('public')\n",
    "\n",
    "    def _protected_method(self):\n",
    "        print('protected')"
   ]
  },
  {
   "cell_type": "code",
   "execution_count": null,
   "metadata": {
    "lines_to_next_cell": 1,
    "title": "codecell"
   },
   "outputs": [],
   "source": [
    "b = Base()\n",
    "b.public_method()\n",
    "b._protected_method()"
   ]
  },
  {
   "cell_type": "markdown",
   "metadata": {
    "region_name": "md"
   },
   "source": [
    "# Private Methods\n",
    "Private methods are not accessible outside of the class"
   ]
  },
  {
   "cell_type": "code",
   "execution_count": null,
   "metadata": {
    "lines_to_next_cell": 1,
    "title": "codecell"
   },
   "outputs": [],
   "source": [
    "class Base():\n",
    "    def public_method(self):\n",
    "        print('public')\n",
    "\n",
    "    def __private_method(self):\n",
    "        print('private')\n",
    "\n",
    "class Derived(Base):\n",
    "    pass"
   ]
  },
  {
   "cell_type": "code",
   "execution_count": null,
   "metadata": {
    "lines_to_next_cell": 1,
    "title": "codecell"
   },
   "outputs": [],
   "source": [
    "b = Base()\n",
    "b.public_method()\n",
    "b.__private_method()"
   ]
  },
  {
   "cell_type": "markdown",
   "metadata": {
    "region_name": "md"
   },
   "source": [
    "# Protected Member Variables"
   ]
  },
  {
   "cell_type": "code",
   "execution_count": null,
   "metadata": {
    "lines_to_next_cell": 1,
    "title": "codecell"
   },
   "outputs": [],
   "source": [
    "class ProtectedVariables():\n",
    "    def __init__(self, firstName, lastName):\n",
    "        self._firstName = firstName\n",
    "        self._lastName  = lastName"
   ]
  },
  {
   "cell_type": "code",
   "execution_count": null,
   "metadata": {
    "lines_to_next_cell": 1,
    "title": "codecell"
   },
   "outputs": [],
   "source": [
    "p = ProtectedVariables('First', 'Last')\n",
    "print(p._firstName)\n",
    "print(p._lastName)"
   ]
  },
  {
   "cell_type": "markdown",
   "metadata": {
    "region_name": "md"
   },
   "source": [
    "# Private Member Variables"
   ]
  },
  {
   "cell_type": "code",
   "execution_count": null,
   "metadata": {
    "lines_to_next_cell": 1,
    "title": "codecell"
   },
   "outputs": [],
   "source": [
    "class PrivateVariables():\n",
    "    def __init__(self, firstName, lastName):\n",
    "        self.__firstName = firstName\n",
    "        self.__lastName  = lastName"
   ]
  },
  {
   "cell_type": "code",
   "execution_count": null,
   "metadata": {
    "title": "codecell"
   },
   "outputs": [],
   "source": [
    "p = PrivateVariables('First', 'Last')\n",
    "print(p.__firstName)"
   ]
  }
 ],
 "metadata": {
  "jupytext": {
   "cell_metadata_filter": "title,region_name,-all",
   "main_language": "python",
   "notebook_metadata_filter": "-all"
  }
 },
 "nbformat": 4,
 "nbformat_minor": 2
}
