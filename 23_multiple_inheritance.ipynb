{
 "cells": [
  {
   "cell_type": "markdown",
   "metadata": {
    "region_name": "md"
   },
   "source": [
    "# Inheritance\n",
    "In this inheritance example we want to design a set of functionality.\n",
    "To accomplish that we'll build some classes that will\n",
    "be remniscent of sklearn.\n",
    "\n",
    "Our requirements:\n",
    "* Transformations\n",
    "  * Transformations are fit to data\n",
    "  * Transformations transform data\n",
    "  * Normalizing data is a transformation\n",
    "* Models\n",
    "  * Models are fit to data\n",
    "  * Fitted Models predict given data\n",
    "  * Linear is a type of Model\n",
    "  * Logistic is a type of Model\n",
    "* PCA\n",
    "  * PCA is a Transformations\n",
    "  * PCA is a Model\n",
    "* Pipeline\n",
    "  * Pipelines are a serial list of Transforms or Models"
   ]
  },
  {
   "cell_type": "markdown",
   "metadata": {
    "region_name": "md"
   },
   "source": [
    "# Learning Objects Fit\n",
    "* Transformatations are fit to data\n",
    "* Models are fit to data\n",
    "* Good candidate for a base class!"
   ]
  },
  {
   "cell_type": "code",
   "execution_count": null,
   "metadata": {
    "lines_to_next_cell": 1,
    "title": "codecell"
   },
   "outputs": [],
   "source": [
    "class Base():\n",
    "    \"\"\"\n",
    "    A Base class models functionality that can learn from data.\n",
    "    We use a fit method to handle learning.\n",
    "    \"\"\"\n",
    "    def __init__(self):\n",
    "        pass\n",
    "\n",
    "    def fit(self, X, y):\n",
    "        pass"
   ]
  },
  {
   "cell_type": "markdown",
   "metadata": {
    "region_name": "md"
   },
   "source": [
    "# Transformations\n",
    "* Transformations transform data\n",
    "* Normalizing is a transformation\n",
    "* Good candidate for an is - a (base - derived class)"
   ]
  },
  {
   "cell_type": "code",
   "execution_count": null,
   "metadata": {
    "lines_to_next_cell": 1,
    "title": "codecell"
   },
   "outputs": [],
   "source": [
    "class BaseTransform(Base):\n",
    "    \"\"\"\n",
    "    The BaseTransform method performs a transformation of data.\n",
    "    It can learn parameters it needs from data.\n",
    "    It derives from Base, giving it a fit method.\n",
    "    \"\"\"\n",
    "    def __init__(self):\n",
    "        pass\n",
    "\n",
    "    def transform(self, X):\n",
    "        pass\n",
    "\n",
    "class Normalize(BaseTransform):\n",
    "    def __init__(self):\n",
    "        pass\n",
    "\n",
    "    def fit(self, X, y):\n",
    "        print('Fit Normalize')\n",
    "\n",
    "    def transform(self, X):\n",
    "        print('Transform Normalize')"
   ]
  },
  {
   "cell_type": "markdown",
   "metadata": {
    "region_name": "md"
   },
   "source": [
    "# Models\n",
    "* Fitted models can create predictions\n",
    "* Logitic is a model\n",
    "* Linear is a model\n",
    "* Another good candidate for an is - a (base - derived class)"
   ]
  },
  {
   "cell_type": "code",
   "execution_count": null,
   "metadata": {
    "lines_to_next_cell": 1,
    "title": "codecell"
   },
   "outputs": [],
   "source": [
    "class BaseModel(Base):\n",
    "    \"\"\"\n",
    "    Our BaseModel learns from data and can make a prediction given new data.\n",
    "    It derives from Base giving it a fit method.\n",
    "    \"\"\"\n",
    "    def __init__(self):\n",
    "        pass\n",
    "\n",
    "    def predict(self, X):\n",
    "        pass\n",
    "\n",
    "class LinearModel(BaseModel):\n",
    "    def __init__(self):\n",
    "        super().__init__()\n",
    "\n",
    "    def fit(self, X, y):\n",
    "        print('Fit Linear Model')\n",
    "\n",
    "    def predict(self, X):\n",
    "        print('Predict Linear Model')\n",
    "\n",
    "class LogisticModel(BaseModel):\n",
    "    def __init__(self):\n",
    "        super().__init__()\n",
    "\n",
    "    def fit(self, X, y):\n",
    "        print('Fit Logistic Model')\n",
    "\n",
    "    def predict(self, X):\n",
    "        print('Predict Logistic Model')"
   ]
  },
  {
   "cell_type": "markdown",
   "metadata": {
    "region_name": "md"
   },
   "source": [
    "# PCA\n",
    "* Models that Transform\n",
    "* Good candidate for Multiple Inheritance\n",
    "* PCA is a Model\n",
    "* PCA is a Transformer"
   ]
  },
  {
   "cell_type": "code",
   "execution_count": null,
   "metadata": {
    "lines_to_next_cell": 1,
    "title": "codecell"
   },
   "outputs": [],
   "source": [
    "class PCA(BaseModel, BaseTransform):\n",
    "    def __init__(self):\n",
    "        pass\n",
    "\n",
    "    def fit(self, X, y):\n",
    "        print('Fit PCA')\n",
    "\n",
    "    def transform(self, X):\n",
    "        print('Transform PCA')\n",
    "\n",
    "    def predict(self, X):\n",
    "        print('Predict PCA')"
   ]
  },
  {
   "cell_type": "markdown",
   "metadata": {
    "region_name": "md"
   },
   "source": [
    "# Pipelines are Collection\n",
    "* We want to add items to the pipeline\n",
    "* We'd like to fit the data pipeline\n",
    "* We'd like to transform the data pipeline\n",
    "* We'd like to make a prediction\n",
    "* Good plan to wrap a list with fit, transform and predict"
   ]
  },
  {
   "cell_type": "code",
   "execution_count": null,
   "metadata": {
    "lines_to_next_cell": 1,
    "title": "codecell"
   },
   "outputs": [],
   "source": [
    "class Pipeline(Base):\n",
    "    def __init__(self):\n",
    "        self.steps = []\n",
    "\n",
    "    def add(self, step):\n",
    "        self.steps.append(step)\n",
    "\n",
    "    def fit(self, X, y):\n",
    "        for obj in self.steps:\n",
    "            if isinstance(obj, Base):\n",
    "                obj.fit(X, y)\n",
    "\n",
    "    def transform(self, X):\n",
    "        for obj in self.steps:\n",
    "            if isinstance(obj, BaseTransform):\n",
    "                obj.transform(X)\n",
    "\n",
    "    def predict(self, X):\n",
    "        for obj in self.steps:\n",
    "            if isinstance(obj, BaseModel):\n",
    "                obj.predict(X)"
   ]
  },
  {
   "cell_type": "markdown",
   "metadata": {
    "region_name": "md"
   },
   "source": [
    "Running a Pipeline"
   ]
  },
  {
   "cell_type": "code",
   "execution_count": null,
   "metadata": {
    "title": "codecell"
   },
   "outputs": [],
   "source": [
    "X = []\n",
    "y = []\n",
    "pipe = Pipeline()\n",
    "pipe.add(Normalize())\n",
    "pipe.add(PCA())\n",
    "pipe.add(LinearModel())\n",
    "pipe.fit(X, y)\n",
    "pipe.predict(X)\n",
    "pipe.transform(X)"
   ]
  }
 ],
 "metadata": {
  "jupytext": {
   "cell_metadata_filter": "title,region_name,-all",
   "main_language": "python",
   "notebook_metadata_filter": "-all"
  }
 },
 "nbformat": 4,
 "nbformat_minor": 2
}
