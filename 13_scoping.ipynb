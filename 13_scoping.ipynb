{
 "cells": [
  {
   "cell_type": "markdown",
   "metadata": {
    "region_name": "md"
   },
   "source": [
    "# Scoping - Instance, Class & Static Methods"
   ]
  },
  {
   "cell_type": "markdown",
   "metadata": {
    "region_name": "md"
   },
   "source": [
    "# Instance Methods\n",
    "* A method available to the instance\n",
    "* Has a reference to self\n",
    "* With a reference to self, it has access to the instance state"
   ]
  },
  {
   "cell_type": "code",
   "execution_count": null,
   "metadata": {
    "lines_to_next_cell": 1,
    "title": "codecell"
   },
   "outputs": [],
   "source": [
    "class MyClass():\n",
    "    def instanceWork(self):\n",
    "        print('Instance Method - Work')"
   ]
  },
  {
   "cell_type": "code",
   "execution_count": null,
   "metadata": {
    "lines_to_next_cell": 1,
    "title": "codecell"
   },
   "outputs": [],
   "source": [
    "my = MyClass()\n",
    "my.instanceWork()"
   ]
  },
  {
   "cell_type": "markdown",
   "metadata": {
    "region_name": "md"
   },
   "source": [
    "# Class Methods\n",
    "To attach a method to a class, use the @classmethod annotation and\n",
    "rather than self, use cls as the first parameter"
   ]
  },
  {
   "cell_type": "code",
   "execution_count": null,
   "metadata": {
    "lines_to_next_cell": 1,
    "title": "codecell"
   },
   "outputs": [],
   "source": [
    "class MyClass():\n",
    "    def instanceWork(self):\n",
    "        print('Instance Method - Work')\n",
    "        print(self)\n",
    "\n",
    "    @classmethod\n",
    "    def classWork(cls):\n",
    "        print('Class Method - Work')\n",
    "        print(cls)"
   ]
  },
  {
   "cell_type": "markdown",
   "metadata": {
    "region_name": "md"
   },
   "source": [
    "You can call class methods using your reference to the class instance"
   ]
  },
  {
   "cell_type": "code",
   "execution_count": null,
   "metadata": {
    "title": "codecell"
   },
   "outputs": [],
   "source": [
    "my = MyClass()\n",
    "my.instanceWork()\n",
    "my.classWork()"
   ]
  },
  {
   "cell_type": "markdown",
   "metadata": {
    "region_name": "md"
   },
   "source": [
    "You can also call class methods using the class name"
   ]
  },
  {
   "cell_type": "code",
   "execution_count": null,
   "metadata": {
    "title": "codecell"
   },
   "outputs": [],
   "source": [
    "MyClass.classWork()"
   ]
  },
  {
   "cell_type": "markdown",
   "metadata": {
    "region_name": "md"
   },
   "source": [
    "# Usage : Alternative Constructors\n",
    "Class methods are great for creating alternative Constructors"
   ]
  },
  {
   "cell_type": "code",
   "execution_count": null,
   "metadata": {
    "lines_to_next_cell": 1,
    "title": "codecell"
   },
   "outputs": [],
   "source": [
    "from datetime import date"
   ]
  },
  {
   "cell_type": "code",
   "execution_count": null,
   "metadata": {
    "lines_to_next_cell": 1,
    "title": "codecell"
   },
   "outputs": [],
   "source": [
    "class Customer():\n",
    "    def __init__(self, firstName:str, lastName:str, age:int):\n",
    "        self.firstName = firstName\n",
    "        self.lastName  = lastName\n",
    "        self.age       = age\n",
    "\n",
    "    def output(self):\n",
    "        print(self.firstName, self.lastName, self.age)\n",
    "\n",
    "    @classmethod\n",
    "    def fromFullName(cls, fullName:str, age:int):\n",
    "        firstName, lastName = fullName.split(' ')\n",
    "        return cls(firstName, lastName, age)"
   ]
  },
  {
   "cell_type": "code",
   "execution_count": null,
   "metadata": {
    "lines_to_next_cell": 1,
    "title": "codecell"
   },
   "outputs": [],
   "source": [
    "c1 = Customer('Anne', 'Smith', 30)\n",
    "c2 = Customer.fromFullName('Cindy Williams', 50)\n",
    "\n",
    "c1.output()\n",
    "c2.output()"
   ]
  },
  {
   "cell_type": "markdown",
   "metadata": {
    "region_name": "md"
   },
   "source": [
    "# Static Methods\n",
    "Convenient for grouping methods that logically make sense in a class\n",
    "but do not require an object.  Helper methods are good candidates for\n",
    "staticmethods in classes."
   ]
  },
  {
   "cell_type": "code",
   "execution_count": null,
   "metadata": {
    "lines_to_next_cell": 1,
    "title": "codecell"
   },
   "outputs": [],
   "source": [
    "class MyClass():\n",
    "    def instanceWork(self):\n",
    "        print('Instance Method - Work')\n",
    "        print(self)\n",
    "\n",
    "    @classmethod\n",
    "    def classWork(cls):\n",
    "        print('Class Method - Work')\n",
    "        print(cls)\n",
    "\n",
    "    @staticmethod\n",
    "    def staticWork():\n",
    "        print('Static Method - Work')"
   ]
  },
  {
   "cell_type": "code",
   "execution_count": null,
   "metadata": {
    "title": "codecell"
   },
   "outputs": [],
   "source": [
    "c = MyClass()\n",
    "c.staticWork()"
   ]
  },
  {
   "cell_type": "code",
   "execution_count": null,
   "metadata": {
    "title": "codecell"
   },
   "outputs": [],
   "source": [
    "MyClass.staticWork()"
   ]
  }
 ],
 "metadata": {
  "jupytext": {
   "cell_metadata_filter": "title,region_name,-all",
   "main_language": "python",
   "notebook_metadata_filter": "-all"
  }
 },
 "nbformat": 4,
 "nbformat_minor": 2
}
